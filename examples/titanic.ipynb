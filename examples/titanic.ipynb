{
 "cells": [
  {
   "cell_type": "code",
   "execution_count": 1,
   "metadata": {},
   "outputs": [],
   "source": [
    "import os\n",
    "\n",
    "os.chdir(\"../\")"
   ]
  },
  {
   "cell_type": "markdown",
   "metadata": {},
   "source": [
    "Imports"
   ]
  },
  {
   "cell_type": "code",
   "execution_count": 2,
   "metadata": {},
   "outputs": [],
   "source": [
    "from pandas import read_csv, DataFrame\n",
    "from classifiers.random_forest import (\n",
    "    RandomForestBinaryClassifier,\n",
    "    DecisionTreeBinaryClassifier,\n",
    ")"
   ]
  },
  {
   "cell_type": "markdown",
   "metadata": {},
   "source": [
    "Instantiate the classifier"
   ]
  },
  {
   "cell_type": "code",
   "execution_count": 14,
   "metadata": {},
   "outputs": [],
   "source": [
    "classifier = RandomForestBinaryClassifier()"
   ]
  },
  {
   "cell_type": "markdown",
   "metadata": {},
   "source": [
    "Load in the data"
   ]
  },
  {
   "cell_type": "code",
   "execution_count": 4,
   "metadata": {},
   "outputs": [],
   "source": [
    "all_data = read_csv(\"./data/titanic.csv\")"
   ]
  },
  {
   "cell_type": "markdown",
   "metadata": {},
   "source": [
    "Train/test split"
   ]
  },
  {
   "cell_type": "code",
   "execution_count": 10,
   "metadata": {},
   "outputs": [],
   "source": [
    "all_data = all_data.sample(frac=1, random_state=42).reindex()\n",
    "test_data = DataFrame(all_data.iloc[0 : round(len(all_data) / 4)])\n",
    "training_data = DataFrame(all_data.iloc[round(len(all_data) / 4) : len(all_data)])"
   ]
  },
  {
   "cell_type": "markdown",
   "metadata": {},
   "source": [
    "Train the model with training data"
   ]
  },
  {
   "cell_type": "code",
   "execution_count": 15,
   "metadata": {},
   "outputs": [],
   "source": [
    "classifier.train(training_data, \"Survived\")"
   ]
  },
  {
   "cell_type": "markdown",
   "metadata": {},
   "source": [
    "Predict with test data"
   ]
  },
  {
   "cell_type": "code",
   "execution_count": 16,
   "metadata": {},
   "outputs": [],
   "source": [
    "results = classifier.predict(test_data)\n",
    "test_data[\"predicted\"] = results.Survived"
   ]
  },
  {
   "cell_type": "markdown",
   "metadata": {},
   "source": [
    "Compute accuracy"
   ]
  },
  {
   "cell_type": "code",
   "execution_count": 17,
   "metadata": {},
   "outputs": [
    {
     "name": "stdout",
     "output_type": "stream",
     "text": [
      "Overall accuracy: 0.7702702702702703\n",
      "Accuracy had heart disease: 0.1981981981981982\n",
      "Accuracy did not have heart disease: 0.5720720720720721\n"
     ]
    }
   ],
   "source": [
    "accuracy = len(test_data[(test_data[\"predicted\"] == test_data[\"Survived\"])]) / len(\n",
    "    test_data\n",
    ")\n",
    "print(f\"Overall accuracy: {accuracy}\")\n",
    "\n",
    "accuracy = len(\n",
    "    (\n",
    "        test_data[\n",
    "            (test_data[\"Survived\"] == True)\n",
    "            & (test_data[\"predicted\"] == test_data[\"Survived\"])\n",
    "        ]\n",
    "    )\n",
    ") / len(test_data)\n",
    "print(f\"Accuracy had heart disease: {accuracy}\")\n",
    "\n",
    "accuracy = len(\n",
    "    (\n",
    "        test_data[\n",
    "            (test_data[\"Survived\"] == False)\n",
    "            & (test_data[\"predicted\"] == test_data[\"Survived\"])\n",
    "        ]\n",
    "    )\n",
    ") / len(test_data)\n",
    "print(f\"Accuracy did not have heart disease: {accuracy}\")\n"
   ]
  }
 ],
 "metadata": {
  "interpreter": {
   "hash": "bd140fdb72eb056b6af4e1e7148a574371f1495498424e61801938e7fe077d99"
  },
  "kernelspec": {
   "display_name": "Python 3.9.7 ('machine-learning-gP9cuWYO-py3.9')",
   "language": "python",
   "name": "python3"
  },
  "language_info": {
   "codemirror_mode": {
    "name": "ipython",
    "version": 3
   },
   "file_extension": ".py",
   "mimetype": "text/x-python",
   "name": "python",
   "nbconvert_exporter": "python",
   "pygments_lexer": "ipython3",
   "version": "3.10.2"
  },
  "orig_nbformat": 4
 },
 "nbformat": 4,
 "nbformat_minor": 2
}
